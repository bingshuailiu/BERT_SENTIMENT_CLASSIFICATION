{
 "cells": [
  {
   "cell_type": "code",
   "execution_count": 2,
   "metadata": {
    "collapsed": true
   },
   "outputs": [],
   "source": [
    "import pandas as pd\n",
    "import re\n",
    "import emoji\n",
    "import numpy as np"
   ]
  },
  {
   "cell_type": "code",
   "execution_count": 3,
   "outputs": [],
   "source": [
    "df = pd.read_csv('./data/nCoV_100k_train.labled.csv')"
   ],
   "metadata": {
    "collapsed": false,
    "pycharm": {
     "name": "#%%\n"
    }
   }
  },
  {
   "cell_type": "markdown",
   "source": [
    "# 数据清洗"
   ],
   "metadata": {
    "collapsed": false
   }
  },
  {
   "cell_type": "code",
   "execution_count": 4,
   "outputs": [],
   "source": [
    "data = df['review']\n",
    "labels = df['label']"
   ],
   "metadata": {
    "collapsed": false,
    "pycharm": {
     "name": "#%%\n"
    }
   }
  },
  {
   "cell_type": "code",
   "execution_count": 5,
   "outputs": [
    {
     "data": {
      "text/plain": "['写在年末冬初孩子流感的第五天，我们仍然没有忘记热情拥抱这年的第一天。带着一丝迷信，早晨给孩子穿上红色的羽绒服羽绒裤，祈祷新的一年，孩子们身体康健。仍然会有一丝焦虑，焦虑我的孩子为什么会过早的懂事，从两岁多开始关注我的情绪，会深沉地说妈妈，你终于笑了！这句话像刀子一样扎入我?展开全文',\n '开年大模型累到以为自己发烧了腰疼膝盖疼腿疼胳膊疼脖子疼?',\n '邱晨这就是我爹，爹，发烧快好，毕竟美好的假期拿来养病不太好，假期还是要好好享受快乐，爹，新年快乐，发烧好了就去浪吧，快快乐乐的度过这个美好假期，说不定以后就没有了嗷邱晨虫仔泉州泉州理工学院?',\n '新年的第一天感冒又发烧的也太衰了但是我要想着明天一定会好的?',\n '问我们意念里有坏的想法了，天神就会给记下来，那如果有好的想法也会被记下来吗？答那当然了。有坏的想法天神会记，叫头上三尺有神灵明白那么地府的官也会记，如果你坏得不是太厉害的意念，你只要在五分钟当中，或者在一分钟两分钟三分钟当中不要让这个坏的意念长存，它可能就没了，下面?展开全文']"
     },
     "execution_count": 5,
     "metadata": {},
     "output_type": "execute_result"
    }
   ],
   "source": [
    "data_punc=[]\n",
    "idx_punc=[]\n",
    "for i,d in enumerate(data):\n",
    "    d = str(d)\n",
    "    # 去emoji表情\n",
    "    d=emoji.replace_emoji(d, replace='')\n",
    "    # 去微博名\n",
    "    d=re.sub('//@.+:','',d)\n",
    "    # 去话题\n",
    "    d=re.sub('#\\w+#','',d)\n",
    "    # 去@\n",
    "    d=re.sub('@\\w+ ','',d)\n",
    "    # 去微博超话\n",
    "    d = re.sub('\\w+ ','',d)\n",
    "    d = re.sub('\\ue627\\w+ ','',d)\n",
    "    # 去微博表情\n",
    "    d = re.sub('\\[\\S+\\]','',d)\n",
    "    # 去微博视频\n",
    "    d=re.sub('L.+的\\w+视频$','',d)\n",
    "    # 去特殊字符，数字、字母未保留\n",
    "    d = re.findall('[\\u4e00-\\u9fa5，。？！；,?!;]+',d,re.S)\n",
    "    d = ''.join(d)\n",
    "    # 去开头标点\n",
    "    d = re.sub('^[，。？！；,?!;]+','',d)\n",
    "    # 去多标点\n",
    "    d = re.sub('？+','？',d)\n",
    "    d = re.sub('！+|!+','！',d)\n",
    "    d = re.sub('，+','，',d)\n",
    "    d = re.sub(',+',',',d)\n",
    "    d = re.sub('。+','。',d)\n",
    "    # 去电话\n",
    "#     d = re.sub('^1\\d{10}$|^(0\\d{2,3}-?|\\(0\\d{2,3}\\))?[1-9]\\d{4,7}(-\\d{1,8})?$','',d)\n",
    "    if d!='' and d!='nan':\n",
    "        data_punc.append(d)\n",
    "        idx_punc.append(i)\n",
    "\n",
    "data_punc[:5]"
   ],
   "metadata": {
    "collapsed": false,
    "pycharm": {
     "name": "#%%\n"
    }
   }
  },
  {
   "cell_type": "code",
   "execution_count": 6,
   "outputs": [
    {
     "data": {
      "text/plain": "98473"
     },
     "execution_count": 6,
     "metadata": {},
     "output_type": "execute_result"
    }
   ],
   "source": [
    "len(data[idx_punc])"
   ],
   "metadata": {
    "collapsed": false,
    "pycharm": {
     "name": "#%%\n"
    }
   }
  },
  {
   "cell_type": "markdown",
   "source": [
    "# 去重复行"
   ],
   "metadata": {
    "collapsed": false
   }
  },
  {
   "cell_type": "code",
   "execution_count": 7,
   "outputs": [
    {
     "data": {
      "text/plain": "(98473, 1)"
     },
     "execution_count": 7,
     "metadata": {},
     "output_type": "execute_result"
    }
   ],
   "source": [
    "# 去重\n",
    "data_pre = np.array(data_punc)\n",
    "data_pre = np.expand_dims(data_pre, axis=1)\n",
    "# np.savetxt('./a.txt', data_pre, delimiter=',', fmt='%s')\n",
    "data_pre.shape"
   ],
   "metadata": {
    "collapsed": false,
    "pycharm": {
     "name": "#%%\n"
    }
   }
  },
  {
   "cell_type": "code",
   "execution_count": 8,
   "outputs": [],
   "source": [
    "data = data[idx_punc]\n",
    "labels = labels[idx_punc]"
   ],
   "metadata": {
    "collapsed": false,
    "pycharm": {
     "name": "#%%\n"
    }
   }
  },
  {
   "cell_type": "code",
   "execution_count": 9,
   "outputs": [],
   "source": [
    "cleaned = pd.DataFrame(data={'review': data, \"label\": labels}).reset_index(drop=True)"
   ],
   "metadata": {
    "collapsed": false,
    "pycharm": {
     "name": "#%%\n"
    }
   }
  },
  {
   "cell_type": "code",
   "execution_count": 10,
   "outputs": [],
   "source": [
    "cleaned.to_csv('data/train.csv',encoding='utf_8_sig',index=False) #解决乱码"
   ],
   "metadata": {
    "collapsed": false,
    "pycharm": {
     "name": "#%%\n"
    }
   }
  }
 ],
 "metadata": {
  "kernelspec": {
   "display_name": "Python 3",
   "language": "python",
   "name": "python3"
  },
  "language_info": {
   "codemirror_mode": {
    "name": "ipython",
    "version": 2
   },
   "file_extension": ".py",
   "mimetype": "text/x-python",
   "name": "python",
   "nbconvert_exporter": "python",
   "pygments_lexer": "ipython2",
   "version": "2.7.6"
  }
 },
 "nbformat": 4,
 "nbformat_minor": 0
}